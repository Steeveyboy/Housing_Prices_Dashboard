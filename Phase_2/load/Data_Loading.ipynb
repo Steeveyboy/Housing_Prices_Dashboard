{
 "cells": [
  {
   "cell_type": "markdown",
   "id": "e6b32e39",
   "metadata": {},
   "source": [
    "# Loading (made by Dengsong Wang)"
   ]
  },
  {
   "cell_type": "code",
   "execution_count": 1,
   "id": "f4bfedb9-f915-4891-a6f3-e37c50702db8",
   "metadata": {},
   "outputs": [],
   "source": [
    "import psycopg2\n",
    "import pandas as pd\n",
    "import os"
   ]
  },
  {
   "cell_type": "code",
   "execution_count": 3,
   "id": "0da918a6-1e09-421d-beda-a9e3bb5a8785",
   "metadata": {},
   "outputs": [],
   "source": [
    "# Reading in transformed tables\n",
    "fact_table = pd.read_csv(\"../transform/fact_table.csv\")\n",
    "\n",
    "date_dimension = pd.read_csv(\"../transform/date_dimension.csv\")\n",
    "location_dimension = pd.read_csv(\"../transform/location_dimension.csv\")\n",
    "real_estate_dimension = pd.read_csv(\"../transform/real_estate.csv\")\n",
    "regional_weather_summaries = pd.read_csv(\"../transform/regional_weather_summaries.csv\")\n",
    "weather_station_summary = pd.read_csv(\"../transform/weather_station_summary.csv\")"
   ]
  },
  {
   "cell_type": "code",
   "execution_count": 12,
   "id": "1e6f8e56",
   "metadata": {},
   "outputs": [],
   "source": [
    "# change dbname, user, password, host, port to your own if you want to run it on your own database\n",
    "def create_conn():\n",
    "    connection = psycopg2.connect(\n",
    "        dbname=\"4142_Database\",\n",
    "        user=\"postgres\",\n",
    "        password = os.getenv(\"DB_PASS\"),\n",
    "        host=\"localhost\",\n",
    "        port=\"5432\"\n",
    "    )\n",
    "    return connection\n",
    "\n",
    "conn = create_conn()\n",
    "cursor = conn.cursor()\n",
    "\n",
    "# create a table \n",
    "def create_tables(connection, query_file_path=\"init_conn.session.sql\"):\n",
    "    cursor = connection.cursor()\n",
    "    \n",
    "    with open(query_file_path, 'r') as file_o:\n",
    "        query = file_o.read()\n",
    "    \n",
    "    cursor.execute(query)\n",
    "    connection.commit()\n",
    "    cursor.close()\n",
    "    \n",
    "create_tables(conn)\n",
    "conn.close()"
   ]
  },
  {
   "cell_type": "code",
   "execution_count": 43,
   "id": "386c333d-6463-4159-bc71-a76a62b5585c",
   "metadata": {},
   "outputs": [],
   "source": [
    "# load the df into the table\n",
    "from sqlalchemy import create_engine\n",
    "\n",
    "def get_engine(connection):\n",
    "    return create_engine(f\"postgresql+psycopg2://{connection.info.user}:{connection.info.password}@{connection.info.host}:{connection.info.port}/{connection.info.dbname}\")\n",
    "\n",
    "def load_dataframe(dataframe, table_name, connection):\n",
    "    engine = get_engine(connection)\n",
    "    dataframe.to_sql(table_name, engine, if_exists='replace', index=False, schema='public', method='multi')\n",
    "\n",
    "conn = create_conn()\n",
    "load_dataframe(location_dimension, 'location_dimension', conn)\n",
    "load_dataframe(date_dimension, 'date_dimension', conn)\n",
    "load_dataframe(real_estate_dimension, 'real_estate_dimension', conn)\n",
    "load_dataframe(regional_weather_summaries, 'regional_weather_summary', conn)\n",
    "load_dataframe(fact_table, 'facttable', conn)\n",
    "\n",
    "conn.close()"
   ]
  },
  {
   "cell_type": "code",
   "execution_count": 46,
   "id": "c438dfe8",
   "metadata": {},
   "outputs": [
    {
     "name": "stderr",
     "output_type": "stream",
     "text": [
      "C:\\Users\\jonat\\AppData\\Local\\Temp\\ipykernel_9940\\1883327639.py:6: UserWarning: pandas only supports SQLAlchemy connectable (engine/connection) or database string URI or sqlite3 DBAPI2 connection. Other DBAPI2 objects are not tested. Please consider using SQLAlchemy.\n",
      "  dataframe = pd.read_sql_query(query, connection)\n"
     ]
    }
   ],
   "source": [
    "# validate the df is loaded successfully\n",
    "def show_table(table,connection):\n",
    "    # eng = get_engine(connection)\n",
    "    # curs = connection.cursor()\n",
    "    query = f\"SELECT * FROM \\\"{table}\\\"\"\n",
    "    dataframe = pd.read_sql_query(query, connection)\n",
    "    connection.close()\n",
    "    return dataframe\n",
    "\n",
    "conn = create_conn()\n",
    "table_df = show_table('facttable',conn)\n",
    "conn.close()"
   ]
  },
  {
   "cell_type": "code",
   "execution_count": null,
   "id": "a5e5913c-ad14-4b6e-8dc2-76b38463d323",
   "metadata": {},
   "outputs": [],
   "source": []
  }
 ],
 "metadata": {
  "kernelspec": {
   "display_name": "Python 3 (ipykernel)",
   "language": "python",
   "name": "python3"
  },
  "language_info": {
   "codemirror_mode": {
    "name": "ipython",
    "version": 3
   },
   "file_extension": ".py",
   "mimetype": "text/x-python",
   "name": "python",
   "nbconvert_exporter": "python",
   "pygments_lexer": "ipython3",
   "version": "3.8.0"
  }
 },
 "nbformat": 4,
 "nbformat_minor": 5
}
