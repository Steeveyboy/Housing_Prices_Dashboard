{
 "cells": [
  {
   "cell_type": "markdown",
   "id": "e6b32e39",
   "metadata": {},
   "source": [
    "# Loading (made by Dengsong Wang)"
   ]
  },
  {
   "cell_type": "code",
   "execution_count": 2,
   "id": "4321f9f5",
   "metadata": {},
   "outputs": [],
   "source": []
  },
  {
   "cell_type": "code",
   "execution_count": 22,
   "id": "276e71e5",
   "metadata": {},
   "outputs": [],
   "source": [
    "import psycopg2\n",
    "\n",
    "# change dbname, user, password, host, port to your own if you want to run it on your own database\n",
    "def create_conn():\n",
    "    connection = psycopg2.connect(\n",
    "        dbname=\"4142_Database\",\n",
    "        user=\"postgres\",\n",
    "        password=\"huazaiwang123456\",\n",
    "        host=\"localhost\",\n",
    "        port=\"5432\"\n",
    "    )\n",
    "    return connection\n",
    "\n",
    "conn = create_conn()"
   ]
  },
  {
   "cell_type": "code",
   "execution_count": 3,
   "id": "9a546c48",
   "metadata": {},
   "outputs": [
    {
     "data": {
      "text/plain": [
       "Surrogate Keys      int64\n",
       "location           object\n",
       "date               object\n",
       "Tm Average        float64\n",
       "Tx Average        float64\n",
       "Tn Average        float64\n",
       "P Average         float64\n",
       "S_G Average       float64\n",
       "total             float64\n",
       "house             float64\n",
       "land              float64\n",
       "dtype: object"
      ]
     },
     "execution_count": 3,
     "metadata": {},
     "output_type": "execute_result"
    }
   ],
   "source": [
    "import pandas as pd\n",
    "\n",
    "fact_table = pd.read_csv(\"../transform/fact_table.csv\")\n",
    "fact_table.dtypes"
   ]
  },
  {
   "cell_type": "code",
   "execution_count": 4,
   "id": "16034c85",
   "metadata": {},
   "outputs": [],
   "source": [
    "date_dimension = pd.read_csv(\"../transform/date_dimension.csv\")\n",
    "location_dimension = pd.read_csv(\"../transform/location_dimension.csv\")\n",
    "real_estate_dimension = pd.read_csv(\"../transform/real_estate.csv\")\n",
    "regional_weather_summaries = pd.read_csv(\"../transform/regional_weather_summaries.csv\")\n",
    "weather_station_summary = pd.read_csv(\"../transform/weather_station_summary.csv\")\n"
   ]
  },
  {
   "cell_type": "code",
   "execution_count": 24,
   "id": "1e6f8e56",
   "metadata": {},
   "outputs": [],
   "source": [
    "# create a table \n",
    "def create_table(connection):\n",
    "    cursor = connection.cursor()\n",
    "    cursor.execute('''CREATE TABLE IF NOT EXISTS \"4142_table\" (\n",
    "                          \"Surrogate Keys\" INTEGER PRIMARY KEY,\n",
    "                          location TEXT,\n",
    "                          date TIMESTAMP,\n",
    "                          \"Tm Average\" FLOAT,\n",
    "                          \"Tx Average\" FLOAT,\n",
    "                          \"Tn Average\" FLOAT,\n",
    "                          \"P Average\" FLOAT,\n",
    "                          \"S_G Average\" FLOAT,\n",
    "                          total FLOAT,\n",
    "                          house FLOAT,\n",
    "                          land FLOAT);''')\n",
    "    connection.commit()\n",
    "    cursor.close()\n",
    "    \n",
    "create_table(conn)\n",
    "conn.close()"
   ]
  },
  {
   "cell_type": "code",
   "execution_count": 26,
   "id": "406a1c92",
   "metadata": {},
   "outputs": [],
   "source": [
    "# load the df into the table\n",
    "from sqlalchemy import create_engine\n",
    "\n",
    "def load_dataframe(dataframe, table_name, connection):\n",
    "    engine = create_engine(f\"postgresql+psycopg2://{connection.info.user}:{connection.info.password}@{connection.info.host}:{connection.info.port}/{connection.info.dbname}\")\n",
    "    dataframe.to_sql(table_name, engine, if_exists='replace', index=False, schema='public', method='multi')\n",
    "\n",
    "\n",
    "conn = create_conn()\n",
    "load_dataframe(fact_table, '4142_table', conn)\n",
    "conn.close()"
   ]
  },
  {
   "cell_type": "code",
   "execution_count": 27,
   "id": "c438dfe8",
   "metadata": {},
   "outputs": [
    {
     "name": "stderr",
     "output_type": "stream",
     "text": [
      "C:\\Users\\Dengsong\\anaconda3\\lib\\site-packages\\pandas\\io\\sql.py:761: UserWarning: pandas only support SQLAlchemy connectable(engine/connection) ordatabase string URI or sqlite3 DBAPI2 connectionother DBAPI2 objects are not tested, please consider using SQLAlchemy\n",
      "  warnings.warn(\n"
     ]
    }
   ],
   "source": [
    "# validate the df is loaded successfully\n",
    "def show_table(table,connection):\n",
    "    query = f\"SELECT * FROM \\\"{table}\\\"\"\n",
    "    dataframe = pd.read_sql_query(query, connection)\n",
    "    connection.close()\n",
    "    return dataframe\n",
    "\n",
    "conn = create_conn()\n",
    "table_df = show_table('4142_table',conn)\n",
    "conn.close()"
   ]
  },
  {
   "cell_type": "code",
   "execution_count": null,
   "id": "b4392283",
   "metadata": {},
   "outputs": [],
   "source": []
  }
 ],
 "metadata": {
  "kernelspec": {
   "display_name": "Python 3 (ipykernel)",
   "language": "python",
   "name": "python3"
  },
  "language_info": {
   "codemirror_mode": {
    "name": "ipython",
    "version": 3
   },
   "file_extension": ".py",
   "mimetype": "text/x-python",
   "name": "python",
   "nbconvert_exporter": "python",
   "pygments_lexer": "ipython3",
   "version": "3.8.3"
  }
 },
 "nbformat": 4,
 "nbformat_minor": 5
}
