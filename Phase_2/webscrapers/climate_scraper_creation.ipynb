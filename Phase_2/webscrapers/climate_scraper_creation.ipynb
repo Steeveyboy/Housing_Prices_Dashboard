{
 "cells": [
  {
   "cell_type": "code",
   "execution_count": 104,
   "id": "d8d408e7-6767-42ad-9a4f-ea636cf11d90",
   "metadata": {},
   "outputs": [],
   "source": [
    "import requests\n",
    "import json, sys, os\n",
    "import pandas as pd\n",
    "from datetime import datetime, date\n",
    "from io import StringIO\n",
    "from dateutil.rrule import rrule, MONTHLY\n",
    "\n",
    "from tqdm.notebook import tqdm"
   ]
  },
  {
   "cell_type": "code",
   "execution_count": 231,
   "id": "33c00b20-66a2-4b82-9ac7-415df55b3da7",
   "metadata": {},
   "outputs": [
    {
     "data": {
      "text/plain": [
       "[datetime.datetime(2023, 1, 1, 0, 0),\n",
       " datetime.datetime(2023, 2, 1, 0, 0),\n",
       " datetime.datetime(2023, 3, 1, 0, 0)]"
      ]
     },
     "execution_count": 231,
     "metadata": {},
     "output_type": "execute_result"
    }
   ],
   "source": [
    "list(rrule(MONTHLY, dtstart=date(2023, 1, 1), until=datetime.now().date()))"
   ]
  },
  {
   "cell_type": "code",
   "execution_count": 224,
   "id": "d9d66902-ebe2-4f42-9c6d-3d79dc8a6f4b",
   "metadata": {},
   "outputs": [],
   "source": [
    "def transform_data(res, year, mo):\n",
    "    d = StringIO(res.text)\n",
    "    data = pd.read_csv(filepath_or_buffer=d)\n",
    "    data['yearmo'] = int(f\"{year}{mo}\")\n",
    "    return data\n",
    "\n",
    "def extract():\n",
    "    # big_dataframe = pd.DataFrame()\n",
    "    # for dt in rrule(MONTHLY, dtstart=date(2022, 6, 1), until=datetime.now().date()):\n",
    "    for refTime in tqdm(list(rrule(MONTHLY, dtstart=date(2012, 1, 1), until=datetime.now().date()))):\n",
    "        refDateYr, refDateMo = refTime.strftime(\"%Y-%m\").split(\"-\")\n",
    "            \n",
    "        link = f\"https://climate.weather.gc.ca/prods_servs/cdn_climate_summary_report_e.html?intYear={refDateYr}&intMonth={int(refDateMo)}&prov=&dataFormat=csv&btnSubmit=Download+data\"\n",
    "        res = requests.get(link)\n",
    "        \n",
    "        df = transform_data(res, refDateYr, refDateMo)\n",
    "        load_data(df)\n",
    "        # big_dataframe = pd.concat([big_dataframe, df])\n",
    "    return df\n",
    "\n",
    "def load_data(df):\n",
    "    if not os.path.exists(\"weather_stations.csv\"):\n",
    "        # with open(\"weather_stations.csv\", 'w') as file:\n",
    "        df.to_csv(\"weather_stations.csv\", mode='w', index=False, header=True)\n",
    "            \n",
    "    else:\n",
    "        df.to_csv(\"weather_stations.csv\", mode='a', index=False, header=False)"
   ]
  },
  {
   "cell_type": "code",
   "execution_count": 225,
   "id": "8b5fa7e0-d1e7-49c6-8d2a-4bcc968f13b6",
   "metadata": {
    "tags": []
   },
   "outputs": [
    {
     "data": {
      "application/vnd.jupyter.widget-view+json": {
       "model_id": "174b4e9be25443f1a7138338d3d956e5",
       "version_major": 2,
       "version_minor": 0
      },
      "text/plain": [
       "  0%|          | 0/135 [00:00<?, ?it/s]"
      ]
     },
     "metadata": {},
     "output_type": "display_data"
    },
    {
     "data": {
      "text/html": [
       "<div>\n",
       "<style scoped>\n",
       "    .dataframe tbody tr th:only-of-type {\n",
       "        vertical-align: middle;\n",
       "    }\n",
       "\n",
       "    .dataframe tbody tr th {\n",
       "        vertical-align: top;\n",
       "    }\n",
       "\n",
       "    .dataframe thead th {\n",
       "        text-align: right;\n",
       "    }\n",
       "</style>\n",
       "<table border=\"1\" class=\"dataframe\">\n",
       "  <thead>\n",
       "    <tr style=\"text-align: right;\">\n",
       "      <th></th>\n",
       "      <th>Long</th>\n",
       "      <th>Lat</th>\n",
       "      <th>Stn_Name</th>\n",
       "      <th>Clim_ID</th>\n",
       "      <th>Prov_or_Ter</th>\n",
       "      <th>Tm</th>\n",
       "      <th>DwTm</th>\n",
       "      <th>D</th>\n",
       "      <th>Tx</th>\n",
       "      <th>DwTx</th>\n",
       "      <th>...</th>\n",
       "      <th>DwP</th>\n",
       "      <th>P%N</th>\n",
       "      <th>S_G</th>\n",
       "      <th>Pd</th>\n",
       "      <th>BS</th>\n",
       "      <th>DwBS</th>\n",
       "      <th>BS%</th>\n",
       "      <th>HDD</th>\n",
       "      <th>CDD</th>\n",
       "      <th>yearmo</th>\n",
       "    </tr>\n",
       "  </thead>\n",
       "  <tbody>\n",
       "  </tbody>\n",
       "</table>\n",
       "<p>0 rows × 26 columns</p>\n",
       "</div>"
      ],
      "text/plain": [
       "Empty DataFrame\n",
       "Columns: [Long, Lat, Stn_Name, Clim_ID, Prov_or_Ter, Tm, DwTm, D, Tx, DwTx, Tn, DwTn, S, DwS, S%N, P, DwP, P%N, S_G, Pd, BS, DwBS, BS%, HDD, CDD, yearmo]\n",
       "Index: []\n",
       "\n",
       "[0 rows x 26 columns]"
      ]
     },
     "execution_count": 225,
     "metadata": {},
     "output_type": "execute_result"
    }
   ],
   "source": [
    "extract()"
   ]
  },
  {
   "cell_type": "code",
   "execution_count": null,
   "id": "547673e0-a61f-4beb-8ea0-e9dafb50408d",
   "metadata": {},
   "outputs": [],
   "source": []
  }
 ],
 "metadata": {
  "kernelspec": {
   "display_name": "Python 3 (ipykernel)",
   "language": "python",
   "name": "python3"
  },
  "language_info": {
   "codemirror_mode": {
    "name": "ipython",
    "version": 3
   },
   "file_extension": ".py",
   "mimetype": "text/x-python",
   "name": "python",
   "nbconvert_exporter": "python",
   "pygments_lexer": "ipython3",
   "version": "3.8.3"
  }
 },
 "nbformat": 4,
 "nbformat_minor": 5
}
