{
 "cells": [
  {
   "cell_type": "markdown",
   "id": "0c0c141e-bcfd-4e50-9cda-2312e46449d1",
   "metadata": {},
   "source": [
    "# Making housing price index scraper\n",
    "This notebook will outline how to automate the retrival of housing prices data from statistics canada. "
   ]
  },
  {
   "cell_type": "code",
   "execution_count": 117,
   "id": "6575caf6-20bf-4f54-83a4-3ce2885a17fd",
   "metadata": {},
   "outputs": [],
   "source": [
    "import requests\n",
    "import json, sys\n",
    "import pandas as pd"
   ]
  },
  {
   "cell_type": "code",
   "execution_count": 215,
   "id": "bd0e8bef-5df5-482b-8238-41bc5c923fac",
   "metadata": {},
   "outputs": [],
   "source": [
    "pid = 1810020501\n",
    "periodStart = 20120101\n",
    "periodEnd = 20230201\n",
    "\n",
    "link = f\"https://www150.statcan.gc.ca/t1/tbl1/jta!ajaxApply?pid={params['pid']}&selectedNodeIds=1D3,1D5,1D7,1D9,1D11,1D17,1D29,1D31,1D34,1D37&checkedLevels=0D1,1D1,1D2&jsTreeLocale=en&refPeriods={periodStart},{periodEnd}&dimensionLayouts=layout3,layout2,layout3&vectorDisplay=false\"\n"
   ]
  },
  {
   "cell_type": "markdown",
   "id": "3e021f9c-a2e3-4faf-b903-cdd44e7b0684",
   "metadata": {},
   "source": [
    "## Requesting Data"
   ]
  },
  {
   "cell_type": "code",
   "execution_count": 150,
   "id": "69eef2b0-e974-4927-ae2d-5dfad814cac9",
   "metadata": {},
   "outputs": [],
   "source": [
    "res = requests.post(link)\n",
    "data = json.loads(res.json()['jsonTable'])"
   ]
  },
  {
   "cell_type": "markdown",
   "id": "f7d3acd1-1452-4c81-9a15-e54f570246bd",
   "metadata": {},
   "source": [
    "## Formatting Data and converting to dataframe"
   ]
  },
  {
   "cell_type": "code",
   "execution_count": 152,
   "id": "6fdc7423-e760-4109-a70c-90f2c71ee2af",
   "metadata": {},
   "outputs": [],
   "source": [
    "# Optional step to save raw json data, this will be large in size\n",
    "# with open(\"jsondat.json\", 'w') as file:\n",
    "#     json.dump(data, file)\n",
    "\n",
    "ls = []\n",
    "for row in data[\"rows\"]:\n",
    "    ls.append({\n",
    "        \"location\": row['values'][0]['value'], \n",
    "        \"date\": row['values'][1]['value'],\n",
    "        \"total\": row['values'][2]['value'],\n",
    "        \"house\": row['values'][3]['value'],\n",
    "        \"land\": row['values'][4]['value']\n",
    "    })\n",
    "    \n",
    "df = pd.DataFrame.from_records(ls, columns = ['location', 'date', 'total', 'house', 'land'])\n"
   ]
  },
  {
   "cell_type": "markdown",
   "id": "45aec415-3534-4732-a2d8-703645059087",
   "metadata": {},
   "source": [
    "## Saving Data as csv"
   ]
  },
  {
   "cell_type": "code",
   "execution_count": 214,
   "id": "57a074a4-15b9-4e18-b3b2-3470a4ec8882",
   "metadata": {},
   "outputs": [],
   "source": [
    "filename = f'structure_housing_data_{datetime.datetime.now().strftime(\"%d-%h-%y_%I-%M%p\")}.csv'\n",
    "df.to_csv(filename, index=False)"
   ]
  },
  {
   "cell_type": "code",
   "execution_count": 220,
   "id": "e89d9402-c7c1-4f78-81ca-d8d728b5e2b1",
   "metadata": {},
   "outputs": [
    {
     "data": {
      "text/plain": [
       "'20230301'"
      ]
     },
     "execution_count": 220,
     "metadata": {},
     "output_type": "execute_result"
    }
   ],
   "source": [
    "datetime.datetime.now().strftime(\"%Y%m01\")"
   ]
  },
  {
   "cell_type": "code",
   "execution_count": null,
   "id": "f1349d13-6fa0-44e4-9237-bd247d7847bf",
   "metadata": {},
   "outputs": [],
   "source": []
  }
 ],
 "metadata": {
  "kernelspec": {
   "display_name": "Python 3 (ipykernel)",
   "language": "python",
   "name": "python3"
  },
  "language_info": {
   "codemirror_mode": {
    "name": "ipython",
    "version": 3
   },
   "file_extension": ".py",
   "mimetype": "text/x-python",
   "name": "python",
   "nbconvert_exporter": "python",
   "pygments_lexer": "ipython3",
   "version": "3.8.3"
  }
 },
 "nbformat": 4,
 "nbformat_minor": 5
}
